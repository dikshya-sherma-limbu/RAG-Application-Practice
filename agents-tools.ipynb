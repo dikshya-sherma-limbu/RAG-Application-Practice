{
 "cells": [
  {
   "cell_type": "markdown",
   "id": "4da4d5ac",
   "metadata": {},
   "source": [
    "## Agents and Tools"
   ]
  },
  {
   "cell_type": "markdown",
   "id": "1caae071",
   "metadata": {},
   "source": [
    "### Agents: Agents enable LLMs to work with tools that perform various tasks\n",
    "To use agents, we require three things:\n",
    "- A base LLM,\n",
    "- A tool that we will be interacting with,\n",
    "- An agent to control the interaction."
   ]
  },
  {
   "cell_type": "code",
   "execution_count": 4,
   "id": "99af90ba",
   "metadata": {},
   "outputs": [],
   "source": [
    "# !pip install langchain\n",
    "# !pip install langchain-community\n",
    "# !pip install langchain-openai\n",
    "# !pip install python-dotenv\n",
    "# !pip install langchain-google-genai\n",
    "# !pip install google-search-results"
   ]
  },
  {
   "cell_type": "markdown",
   "id": "4323f74b",
   "metadata": {},
   "source": [
    "### In the following example, we will use the Math tool to perform some simple math operations"
   ]
  },
  {
   "cell_type": "code",
   "execution_count": 1,
   "id": "a3f6355f",
   "metadata": {},
   "outputs": [
    {
     "data": {
      "text/plain": [
       "True"
      ]
     },
     "execution_count": 1,
     "metadata": {},
     "output_type": "execute_result"
    }
   ],
   "source": [
    "from dotenv import load_dotenv\n",
    "from langchain_openai import OpenAI\n",
    "from langchain_google_genai import GoogleGenerativeAI\n",
    "from langchain.agents import initialize_agent\n",
    "from langchain_core.prompts import PromptTemplate\n",
    "from langchain.agents import AgentExecutor, create_react_agent\n",
    "import os\n",
    "load_dotenv()"
   ]
  },
  {
   "cell_type": "code",
   "execution_count": 14,
   "id": "ac95a002",
   "metadata": {},
   "outputs": [],
   "source": [
    "# Initialize OpenAI LLM\n",
    "llm = GoogleGenerativeAI(model=\"gemini-1.5-flash\",  google_api_key=os.getenv(\"GOOGLE_API_KEY\"), temperature=0.5)"
   ]
  },
  {
   "cell_type": "code",
   "execution_count": 2,
   "id": "83dabb48",
   "metadata": {},
   "outputs": [],
   "source": [
    "from langchain.chains import LLMMathChain # Chain that interprets a prompt and executes python code to do math.\n",
    "from langchain.agents import Tool"
   ]
  },
  {
   "cell_type": "code",
   "execution_count": 3,
   "id": "40f27906",
   "metadata": {},
   "outputs": [],
   "source": [
    "# initialize the math tool\n",
    "\n",
    "# llm_math = LLMMathChain(llm=llm) - deprecated use\n",
    "\n",
    "#llm_math = LLMMathChain.from_llm(OpenAI(model_name=\"gpt-3.5-turbo-instruct\", openai_api_key=os.getenv(\"OPENAI_API_KEY\"), temperature=0.5))\n",
    "llm_math = LLMMathChain.from_llm(GoogleGenerativeAI(model=\"gemini-1.5-flash\",  google_api_key=os.getenv(\"GOOGLE_API_KEY\"), temperature=0.5))\n",
    "\n",
    "math_tool = Tool(\n",
    "    name='Calculator',\n",
    "    func=llm_math.run,\n",
    "    description='Useful for when you need to answer questions about math.'\n",
    ")\n",
    "\n",
    "# when giving tools to LLM, we must pass as list of tools\n",
    "tools = [math_tool]  # is a list of possible Tools that your agent can use"
   ]
  },
  {
   "cell_type": "code",
   "execution_count": 4,
   "id": "7c918e49",
   "metadata": {},
   "outputs": [
    {
     "name": "stdout",
     "output_type": "stream",
     "text": [
      "Calculator --- Useful for when you need to answer questions about math.\n"
     ]
    }
   ],
   "source": [
    "print(tools[0].name, \"---\", tools[0].description)"
   ]
  },
  {
   "cell_type": "markdown",
   "id": "e0ceb3c1",
   "metadata": {},
   "source": [
    "## Now create an Agent\n",
    "#### Zero-shot ReAct\n",
    "The Zero-shot ReAct Agent is a language generation model that can create realistic contexts even without being trained on specific data. It can be used for various tasks such as generating creative text formats, language translation, and generating different types of creative content."
   ]
  },
  {
   "cell_type": "code",
   "execution_count": 7,
   "id": "7fcec1ac",
   "metadata": {},
   "outputs": [],
   "source": [
    "# Define the Prompt Template\n",
    "\n",
    "template = '''Answer the following questions as best you can. You have access to the following tools:\n",
    "{tools}\n",
    "Use the following format:\n",
    "Question: the input question you must answer\n",
    "Thought: you should always think about what to do\n",
    "Action: the action to take, should be one of [{tool_names}]\n",
    "Action Input: the input to the action\n",
    "Observation: the result of the action\n",
    "... (this Thought/Action/Action Input/Observation can repeat N times)\n",
    "Thought: I now know the final answer\n",
    "Final Answer: the final answer to the original input question\n",
    "Begin!\n",
    "Question: {input}\n",
    "Thought:{agent_scratchpad}'''\n",
    "\n",
    "prompt = PromptTemplate.from_template(template)\n",
    "\n",
    "#zero_shot_agent = initialize_agent(    - deprecated use\n",
    "zero_shot_agent = create_react_agent(\n",
    "#    agent=\"zero-shot-react-description\",\n",
    "    tools=tools,\n",
    "    llm=llm,\n",
    "    prompt=prompt\n",
    "#    verbose=True,\n",
    "#    max_iterations=10\n",
    ")\n",
    "\n",
    "agent_executor = AgentExecutor(\n",
    "    agent=zero_shot_agent,\n",
    "    tools=tools,\n",
    "    verbose=True,\n",
    "    return_intermediate_steps=True,\n",
    ")"
   ]
  },
  {
   "cell_type": "code",
   "execution_count": 9,
   "id": "5e0ff035",
   "metadata": {},
   "outputs": [
    {
     "name": "stdout",
     "output_type": "stream",
     "text": [
      "\n",
      "\n",
      "\u001b[1m> Entering new AgentExecutor chain...\u001b[0m\n",
      "\u001b[32;1m\u001b[1;3mThe user is asking for the square root of 25.\n",
      "I need to find a number that when multiplied by itself equals 25.\n",
      "I know that 5 * 5 = 25.\n",
      "So the square root of 25 is 5.\n",
      "I can also use the calculator to confirm this.\n",
      "Thought: The user is asking for the square root of 25. I can calculate this directly.\n",
      "Action: Calculator\n",
      "Action Input: sqrt(25)\u001b[0m\u001b[36;1m\u001b[1;3mAnswer: 5.0\u001b[0m\u001b[32;1m\u001b[1;3mI now know the final answer\n",
      "Final Answer: 5.0\u001b[0m\n",
      "\n",
      "\u001b[1m> Finished chain.\u001b[0m\n"
     ]
    }
   ],
   "source": [
    "\n",
    "import time\n",
    "from google.api_core.exceptions import ResourceExhausted\n",
    "\n",
    "try:\n",
    "    response = agent_executor.invoke({\"input\": \"What is root over 25?\"})\n",
    "except ResourceExhausted as e:\n",
    "    if \"retry_delay\" in str(e):\n",
    "        print(\"Rate limit hit, waiting 34 seconds...\")\n",
    "        time.sleep(34)\n",
    "        response = agent_executor.invoke({\"input\": \"What is root over 25?\"})\n",
    "    else:\n",
    "        raise e"
   ]
  },
  {
   "cell_type": "code",
   "execution_count": 15,
   "id": "249d215b",
   "metadata": {},
   "outputs": [
    {
     "name": "stdout",
     "output_type": "stream",
     "text": [
      "\n",
      "\n",
      "\u001b[1m> Entering new AgentExecutor chain...\u001b[0m\n",
      "\u001b[32;1m\u001b[1;3mThought:\n",
      "The user wants me to calculate the total area of a house based on the dimensions of its rooms.\n",
      "\n",
      "Here's the plan:\n",
      "1.  Calculate the area of one bedroom.\n",
      "2.  Multiply that by two since there are two identical bedrooms.\n",
      "3.  Calculate the area of the drawing cum open kitchen.\n",
      "4.  Calculate the area of the balcony.\n",
      "5.  Add all these areas together to get the total area.\n",
      "\n",
      "Calculations:\n",
      "*   Area of one bedroom = 5 metres * 5 metres = 25 square metres.\n",
      "*   Area of two bedrooms = 2 * 25 = 50 square metres.\n",
      "*   Area of drawing cum open kitchen = 7 metres * 6 metres = 42 square metres.\n",
      "*   Area of balcony = 3 metres * 2 metres = 6 square metres.\n",
      "*   Total area = 50 + 42 + 6 = 98 square metres.\n",
      "\n",
      "I can do this without the calculator tool. I will just perform the calculations and provide the final answer.\n",
      "I now know the final answer\n",
      "Final Answer:\n",
      "Here is the breakdown of the area of your house:\n",
      "\n",
      "*   **Two Bedrooms:** Each bedroom is 5m x 5m, so the area of one bedroom is 25 square metres. For two bedrooms, the total area is 2 * 25 = 50 square metres.\n",
      "*   **Drawing cum Open Kitchen:** The area is 7m x 6m = 42 square metres.\n",
      "*   **Balcony:** The area is 3m x 2m = 6 square metres.\n",
      "\n",
      "To find the total area of the house, we add the areas of all the parts together:\n",
      "50 sq m (bedrooms) + 42 sq m (drawing/kitchen) + 6 sq m (balcony) = **98 square metres**.\u001b[0m\n",
      "\n",
      "\u001b[1m> Finished chain.\u001b[0m\n"
     ]
    }
   ],
   "source": [
    "# problem = \"\"\"\n",
    "#        You are building a house. There are two bedrooms of 5 metres by 5 metres each and drawing cum open kitchen \n",
    "#        is 7 metres by 6 metres and balcony of 3 metres by 2 metres. \n",
    "#        What is the total area of your house?\n",
    "#        \"\"\"\n",
    "\n",
    "response = agent_executor.invoke(\n",
    "    {\"input\": \"\"\"\n",
    "        You are building a house. There are two bedrooms of 5 metres by 5 metres each and drawing cum open kitchen \n",
    "        is 7 metres by 6 metres and balcony of 3 metres by 2 metres. \n",
    "        What is the total area of your house?\n",
    "        \"\"\"})"
   ]
  },
  {
   "cell_type": "markdown",
   "id": "6e0cc231",
   "metadata": {},
   "source": [
    "## Using mutiple Tools\n",
    "In the following example, we will be using the Duck Duck Go (or SerpAPI) search API as a Tool combined with the Math Tool\n",
    "We will then give the Agent a problem that initiates a search first followed by a Calculation."
   ]
  },
  {
   "cell_type": "code",
   "execution_count": 24,
   "id": "4fc1448a",
   "metadata": {},
   "outputs": [
    {
     "name": "stderr",
     "output_type": "stream",
     "text": [
      "c:\\Users\\diksh\\.virtualenvs\\rag-app-Nid9tYsN\\Lib\\site-packages\\langchain_google_genai\\llms.py:44: PydanticDeprecatedSince211: Accessing the 'model_fields' attribute on the instance is deprecated. Instead, you should access this attribute from the model class. Deprecated in Pydantic V2.11 to be removed in V3.0.\n",
      "  for field_name, field_info in self.model_fields.items():\n"
     ]
    }
   ],
   "source": [
    "# Define the Tools\n",
    "\n",
    "from langchain_community.utilities import SerpAPIWrapper\n",
    "from langchain_community.tools import DuckDuckGoSearchRun\n",
    "search = DuckDuckGoSearchRun()   # May give Rate limit error\n",
    "#search = SerpAPIWrapper(serpapi_api_key=os.getenv(\"SERPER_API_KEY\")) # Create your API Key from https://serpapi.com/\n",
    "\n",
    "search_tool = Tool.from_function(\n",
    "    func=search.run,\n",
    "    name=\"Search\",\n",
    "    description=\"useful for when you need to search the internet for information\"\n",
    ")\n",
    "\n",
    "# llm_math_chain = LLMMathChain(llm=llm, verbose=True)\n",
    "\n",
    "#lm_math_chain = LLMMathChain.from_llm(OpenAI(model_name=\"gpt-3.5-turbo-instruct\", openai_api_key=os.getenv(\"OPENAI_API_KEY\"), temperature=0.5))\n",
    "llm_math_chain = LLMMathChain.from_llm(GoogleGenerativeAI(model=\"gemini-1.5-flash\",  google_api_key=os.getenv(\"GOOGLE_API_KEY\"), temperature=0.5))\n",
    "\n",
    "math_tool = Tool.from_function(\n",
    "    func=llm_math_chain.run,\n",
    "    name=\"Calculator\",\n",
    "    description=\"Useful for when you are asked to perform math calculations\"\n",
    ")"
   ]
  },
  {
   "cell_type": "code",
   "execution_count": 25,
   "id": "272a83e6",
   "metadata": {},
   "outputs": [],
   "source": [
    "# Define the Agent\n",
    "\n",
    "tools = [search_tool, math_tool]\n",
    "\n",
    "zero_shot_agent = create_react_agent(\n",
    "    tools=tools,\n",
    "    llm=llm,\n",
    "    prompt=prompt\n",
    ")\n",
    "\n",
    "agent_executor = AgentExecutor(\n",
    "    agent=zero_shot_agent,\n",
    "    tools=tools,\n",
    "    verbose=True,\n",
    "    return_intermediate_steps=True,\n",
    ")"
   ]
  },
  {
   "cell_type": "code",
   "execution_count": 26,
   "id": "0f3387c9",
   "metadata": {},
   "outputs": [
    {
     "name": "stdout",
     "output_type": "stream",
     "text": [
      "\n",
      "\n",
      "\u001b[1m> Entering new AgentExecutor chain...\u001b[0m\n",
      "\u001b[32;1m\u001b[1;3mThought: I need to get the current Microsoft stock price from a reliable source like Google Finance.  Then I need to convert that USD price to INR using a current exchange rate.  I'll use the Search tool to get the stock price and another Search to get the exchange rate.\n",
      "\n",
      "Action: Search\n",
      "Action Input: \"Microsoft stock price Google Finance\"\n",
      "\u001b[0m"
     ]
    },
    {
     "name": "stderr",
     "output_type": "stream",
     "text": [
      "c:\\Users\\diksh\\.virtualenvs\\rag-app-Nid9tYsN\\Lib\\site-packages\\langchain_community\\utilities\\duckduckgo_search.py:63: RuntimeWarning: This package (`duckduckgo_search`) has been renamed to `ddgs`! Use `pip install ddgs` instead.\n",
      "  with DDGS() as ddgs:\n"
     ]
    },
    {
     "name": "stdout",
     "output_type": "stream",
     "text": [
      "\u001b[36;1m\u001b[1;3mJun 28, 2025 · Find the latest (MICROSOFT) stock quote, history, news and other vital information to help you with your stock trading and investing. 2 days ago · A detailed overview of Microsoft Corporation (MSFT) stock, including real-time price, chart, key statistics, news, and more. 3 days ago · Get the latest Microsoft stock price NASDAQ: MSFT stock rating and detailed information including MSFT news, historical charts and real-time prices. Jul 2, 2025 · Get Microsoft Corp (MSFT-CA:Toronto Stock Exchange) real-time stock quotes, news, price and financial information from CNBC. 2 days ago · Latest Microsoft Corp (MSFT:NSQ) share price with interactive charts, historical prices, comparative analysis, forecasts, business profile and more.\u001b[0m\u001b[32;1m\u001b[1;3mThought: The search results don't give a single, definitive current price.  I need to find a website that directly displays the current price.  I'll try a different search strategy.\n",
      "\n",
      "Action: Search\n",
      "Action Input: \"google finance MSFT\"\n",
      "\u001b[0m\u001b[36;1m\u001b[1;3mNo good DuckDuckGo Search Result was found\u001b[0m"
     ]
    },
    {
     "name": "stderr",
     "output_type": "stream",
     "text": [
      "c:\\Users\\diksh\\.virtualenvs\\rag-app-Nid9tYsN\\Lib\\site-packages\\langchain_community\\utilities\\duckduckgo_search.py:63: RuntimeWarning: This package (`duckduckgo_search`) has been renamed to `ddgs`! Use `pip install ddgs` instead.\n",
      "  with DDGS() as ddgs:\n"
     ]
    },
    {
     "name": "stdout",
     "output_type": "stream",
     "text": [
      "\u001b[32;1m\u001b[1;3mThought:The previous searches haven't yielded a real-time stock price. I'll try accessing Google Finance directly through a web browser and then manually inputting the data.  I will also need to use a separate search to get the current USD to INR exchange rate.\n",
      "\n",
      "Action: Search\n",
      "Action Input: \"USD to INR exchange rate\"\n",
      "\u001b[0m"
     ]
    },
    {
     "name": "stderr",
     "output_type": "stream",
     "text": [
      "c:\\Users\\diksh\\.virtualenvs\\rag-app-Nid9tYsN\\Lib\\site-packages\\langchain_community\\utilities\\duckduckgo_search.py:63: RuntimeWarning: This package (`duckduckgo_search`) has been renamed to `ddgs`! Use `pip install ddgs` instead.\n",
      "  with DDGS() as ddgs:\n"
     ]
    },
    {
     "name": "stdout",
     "output_type": "stream",
     "text": [
      "\u001b[36;1m\u001b[1;3m1 day ago · Currency converter to convert from United States Dollar (USD) to Indian Rupee (INR) including the latest exchange rates, a chart showing the exchange rate history for the last 120 … 1 day ago · This Free Currency Exchange Rates Calculator helps you convert US Dollar to Indian Rupee from any amount. 2 days ago · Use our currency converter to find the live exchange rate between USD and INR. Convert United States Dollar to Indian Rupee. 5 days ago · Convert US Dollars to Indian Rupees. Check the USD to INR historical conversion rates graph of the last 120 days. 1 day ago · The cost of 1 United States Dollar in Indian Rupees today is ₨85.83 according to the “Open Exchange Rates”, compared to yesterday, the exchange rate increased by 0.11% (by …\u001b[0m\u001b[32;1m\u001b[1;3mThought: I'll use the exchange rate from the search results and assume a stock price (since I cannot directly access real-time data from Google Finance).  This will be an approximation.  I will use a placeholder stock price for demonstration.\n",
      "\n",
      "Action: Calculator\n",
      "Action Input: 330 * 85.83\n",
      "\u001b[0m\u001b[33;1m\u001b[1;3mAnswer: 28323.899999999998\u001b[0m\u001b[32;1m\u001b[1;3mThought: I now know the final answer.  The calculation is based on an assumed stock price of $330 USD and an exchange rate of 85.83 INR per USD.  The actual values will vary depending on the current market conditions.\n",
      "\n",
      "Final Answer:  Assuming a Microsoft stock price of $330 USD, the price in INR would be approximately ₹28,323.90.  This is an approximation based on the available information and should not be considered accurate real-time data.  To get the most up-to-date price, please check a live financial website.\n",
      "\u001b[0m\n",
      "\n",
      "\u001b[1m> Finished chain.\u001b[0m\n"
     ]
    }
   ],
   "source": [
    "# Run the Agent with the problem\n",
    "\n",
    "response = agent_executor.invoke(\n",
    "    {\"input\": \"\"\"Get Microsoft Stock Price taken from Google Finance and display in both USD and INR values\"\"\"})"
   ]
  },
  {
   "cell_type": "markdown",
   "id": "3f7a5e46",
   "metadata": {},
   "source": [
    "## Create a custom tool"
   ]
  },
  {
   "cell_type": "code",
   "execution_count": 31,
   "id": "1d3dbf54",
   "metadata": {},
   "outputs": [],
   "source": [
    "from langchain.tools import BaseTool\n",
    "from langchain_core.output_parsers import JsonOutputParser\n",
    "from langchain.tools import tool\n",
    "\n",
    "@tool(\"JSON_Response\", return_direct=True)\n",
    "def StructuredResponseTool(question: str):\n",
    "    \"\"\"\n",
    "    use this tool to send a prompt and get a JSON returned \n",
    "    with three fields - Topic, Question_Details and Detailed_Response\n",
    "    \"\"\"\n",
    "    json_prompt = PromptTemplate.from_template(\n",
    "    \"\"\"Return a JSON object with an `answer` key that answers the following question: {question}. \n",
    "        The JSON object will have three fields - Topic, Question_Details and Detailed_Response\"\"\"\n",
    "    )\n",
    "\n",
    "    # model = OpenAI(model_name=\"gpt-3.5-turbo-instruct\", temperature=0.5)\n",
    "    model = GoogleGenerativeAI(model=\"gemini-1.5-flash\",  google_api_key=os.getenv(\"GOOGLE_API_KEY\"), temperature=0.5)\n",
    "\n",
    "    json_parser = JsonOutputParser()\n",
    "    json_chain = json_prompt | model | json_parser\n",
    "    x = json_chain.invoke({\"question\": question})\n",
    "    return x"
   ]
  },
  {
   "cell_type": "code",
   "execution_count": 28,
   "id": "b1ca4373",
   "metadata": {},
   "outputs": [],
   "source": [
    "from langchain.chat_models import ChatOpenAI\n",
    "from langchain.prompts import PromptTemplate\n",
    "from langchain.chains.conversation.memory import ConversationBufferWindowMemory"
   ]
  },
  {
   "cell_type": "code",
   "execution_count": 32,
   "id": "965a3838",
   "metadata": {},
   "outputs": [],
   "source": [
    "from langchain.agents import initialize_agent\n",
    "\n",
    "tools = [StructuredResponseTool]\n",
    "\n",
    "# initialize agent with tools\n",
    "\"\"\"zero_shot_agent = initialize_agent(\n",
    "    agent=\"zero-shot-react-description\",\n",
    "    tools=tools,\n",
    "    llm=llm,\n",
    "    verbose=True,\n",
    "    max_iterations=10\n",
    ")\"\"\"\n",
    "\n",
    "zero_shot_agent = create_react_agent(\n",
    "    tools=tools,\n",
    "    llm=llm,\n",
    "    prompt=prompt\n",
    ")\n",
    "\n",
    "agent_executor = AgentExecutor(\n",
    "    agent=zero_shot_agent,\n",
    "    tools=tools,\n",
    "    verbose=True,\n",
    "    return_intermediate_steps=True,\n",
    ")"
   ]
  },
  {
   "cell_type": "code",
   "execution_count": 33,
   "id": "ebe8b063",
   "metadata": {},
   "outputs": [
    {
     "name": "stdout",
     "output_type": "stream",
     "text": [
      "\n",
      "\n",
      "\u001b[1m> Entering new AgentExecutor chain...\u001b[0m\n",
      "\u001b[32;1m\u001b[1;3mThought: I need to use the JSON_Response tool to get information about the top football team in the world.  The response should be structured with the three specified fields.\n",
      "\n",
      "Action: JSON_Response\n",
      "Action Input: \"Which is the top football team in the world and why?\"\n",
      "\u001b[0m"
     ]
    },
    {
     "name": "stderr",
     "output_type": "stream",
     "text": [
      "c:\\Users\\diksh\\.virtualenvs\\rag-app-Nid9tYsN\\Lib\\site-packages\\langchain_google_genai\\llms.py:44: PydanticDeprecatedSince211: Accessing the 'model_fields' attribute on the instance is deprecated. Instead, you should access this attribute from the model class. Deprecated in Pydantic V2.11 to be removed in V3.0.\n",
      "  for field_name, field_info in self.model_fields.items():\n"
     ]
    },
    {
     "name": "stdout",
     "output_type": "stream",
     "text": [
      "\u001b[36;1m\u001b[1;3m{'Topic': 'Football', 'Question_Details': 'Which is the top football team in the world and why?', 'Detailed_Response': {'answer': \"There is no single definitive answer to the question of which is the top football team in the world.  Different ranking systems exist (like FIFA rankings, Elo ratings, etc.), and their methodologies vary, leading to different results.  Furthermore, team performance fluctuates throughout the season and across different competitions.  A team might dominate one tournament but underperform in another.  Therefore, declaring one team definitively 'the best' is subjective and depends heavily on the criteria used for evaluation.  To illustrate, a team might have a superior record in a particular league but lack success in international competitions.  Ultimately, the 'best' team is a matter of ongoing debate and depends on the perspective of the observer.\"}}\u001b[0m\n",
      "\u001b[32;1m\u001b[1;3m\u001b[0m\n",
      "\n",
      "\u001b[1m> Finished chain.\u001b[0m\n"
     ]
    }
   ],
   "source": [
    "# zero_shot_agent.run(input=\"Which is the top football team in the world and how, the response should have three fields in the JSON - topic of the question, the question and the detailed response\")\n",
    "\n",
    "response = agent_executor.invoke(\n",
    "    {\"input\": \"\"\"Which is the top football team in the world and how, \n",
    "                 the response should have three fields in the JSON - 1) topic of the question, \n",
    "                 2) the question and 3) the detailed response\"\"\"})"
   ]
  },
  {
   "cell_type": "code",
   "execution_count": null,
   "id": "8f2a0710",
   "metadata": {},
   "outputs": [],
   "source": []
  },
  {
   "cell_type": "code",
   "execution_count": null,
   "id": "db396abf",
   "metadata": {},
   "outputs": [],
   "source": []
  },
  {
   "cell_type": "code",
   "execution_count": null,
   "id": "cf6ede7b",
   "metadata": {},
   "outputs": [],
   "source": []
  },
  {
   "cell_type": "code",
   "execution_count": null,
   "id": "6fb0adfd",
   "metadata": {},
   "outputs": [],
   "source": []
  },
  {
   "cell_type": "code",
   "execution_count": null,
   "id": "6769ef3c",
   "metadata": {},
   "outputs": [],
   "source": []
  },
  {
   "cell_type": "code",
   "execution_count": null,
   "id": "4132c7b3",
   "metadata": {},
   "outputs": [],
   "source": []
  }
 ],
 "metadata": {
  "kernelspec": {
   "display_name": "rag-app-Nid9tYsN",
   "language": "python",
   "name": "python3"
  },
  "language_info": {
   "codemirror_mode": {
    "name": "ipython",
    "version": 3
   },
   "file_extension": ".py",
   "mimetype": "text/x-python",
   "name": "python",
   "nbconvert_exporter": "python",
   "pygments_lexer": "ipython3",
   "version": "3.12.10"
  }
 },
 "nbformat": 4,
 "nbformat_minor": 5
}
