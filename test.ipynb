{
 "cells": [],
 "metadata": {
  "kernelspec": {
   "display_name": "rag-app-Nid9tYsN",
   "language": "python",
   "name": "python3"
  },
  "language_info": {
   "name": "python",
   "version": "3.12.10"
  }
 },
 "nbformat": 4,
 "nbformat_minor": 5
}
